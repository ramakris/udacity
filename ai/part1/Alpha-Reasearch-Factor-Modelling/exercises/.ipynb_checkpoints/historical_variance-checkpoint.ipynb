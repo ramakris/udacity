{
 "cells": [
  {
   "cell_type": "markdown",
   "metadata": {},
   "source": [
    "# Historical Variance\n",
    "\n",
    "Let's see how we'd be calculating a covariance matrix of assets without the help of a factor model"
   ]
  },
  {
   "cell_type": "code",
   "execution_count": 2,
   "metadata": {},
   "outputs": [
    {
     "name": "stdout",
     "output_type": "stream",
     "text": [
      "Requirement already satisfied: alphalens==0.3.2 in /home/ramak/anaconda3/lib/python3.6/site-packages (from -r requirements.txt (line 1)) (0.3.2)\n",
      "Requirement already satisfied: colour==0.1.5 in /home/ramak/anaconda3/lib/python3.6/site-packages (from -r requirements.txt (line 2)) (0.1.5)\n",
      "Requirement already satisfied: cvxpy==1.0.3 in /home/ramak/anaconda3/lib/python3.6/site-packages (from -r requirements.txt (line 3)) (1.0.3)\n",
      "Requirement already satisfied: cycler==0.10.0 in /home/ramak/anaconda3/lib/python3.6/site-packages (from -r requirements.txt (line 4)) (0.10.0)\n",
      "Collecting numpy==1.14.5 (from -r requirements.txt (line 5))\n",
      "  Using cached https://files.pythonhosted.org/packages/68/1e/116ad560de97694e2d0c1843a7a0075cc9f49e922454d32f49a80eb6f1f2/numpy-1.14.5-cp36-cp36m-manylinux1_x86_64.whl\n",
      "Requirement already satisfied: pandas==0.18.1 in /home/ramak/anaconda3/lib/python3.6/site-packages (from -r requirements.txt (line 6)) (0.18.1)\n",
      "Requirement already satisfied: plotly==2.2.3 in /home/ramak/anaconda3/lib/python3.6/site-packages (from -r requirements.txt (line 7)) (2.2.3)\n",
      "Requirement already satisfied: pyparsing==2.2.0 in /home/ramak/anaconda3/lib/python3.6/site-packages (from -r requirements.txt (line 8)) (2.2.0)\n",
      "Requirement already satisfied: python-dateutil==2.6.1 in /home/ramak/anaconda3/lib/python3.6/site-packages (from -r requirements.txt (line 9)) (2.6.1)\n",
      "Requirement already satisfied: pytz==2017.3 in /home/ramak/anaconda3/lib/python3.6/site-packages (from -r requirements.txt (line 10)) (2017.3)\n",
      "Requirement already satisfied: requests==2.18.4 in /home/ramak/anaconda3/lib/python3.6/site-packages (from -r requirements.txt (line 11)) (2.18.4)\n",
      "Requirement already satisfied: scipy==1.0.0 in /home/ramak/anaconda3/lib/python3.6/site-packages (from -r requirements.txt (line 12)) (1.0.0)\n",
      "Requirement already satisfied: scikit-learn==0.19.1 in /home/ramak/anaconda3/lib/python3.6/site-packages (from -r requirements.txt (line 13)) (0.19.1)\n",
      "Requirement already satisfied: six==1.11.0 in /home/ramak/anaconda3/lib/python3.6/site-packages (from -r requirements.txt (line 14)) (1.11.0)\n",
      "Requirement already satisfied: tqdm==4.19.5 in /home/ramak/anaconda3/lib/python3.6/site-packages (from -r requirements.txt (line 15)) (4.19.5)\n",
      "Collecting zipline===1.2.0 (from -r requirements.txt (line 16))\n",
      "Requirement already satisfied: graphviz==0.9 in /home/ramak/anaconda3/lib/python3.6/site-packages (from -r requirements.txt (line 17)) (0.9)\n",
      "Requirement already satisfied: IPython>=3.2.3 in /home/ramak/anaconda3/lib/python3.6/site-packages (from alphalens==0.3.2->-r requirements.txt (line 1)) (6.4.0)\n",
      "Requirement already satisfied: seaborn>=0.6.0 in /home/ramak/anaconda3/lib/python3.6/site-packages (from alphalens==0.3.2->-r requirements.txt (line 1)) (0.9.0)\n",
      "Requirement already satisfied: matplotlib>=1.4.0 in /home/ramak/anaconda3/lib/python3.6/site-packages (from alphalens==0.3.2->-r requirements.txt (line 1)) (2.2.2)\n",
      "Requirement already satisfied: statsmodels>=0.6.1 in /home/ramak/anaconda3/lib/python3.6/site-packages (from alphalens==0.3.2->-r requirements.txt (line 1)) (0.9.0)\n",
      "Requirement already satisfied: fastcache in /home/ramak/anaconda3/lib/python3.6/site-packages (from cvxpy==1.0.3->-r requirements.txt (line 3)) (1.0.2)\n",
      "Requirement already satisfied: multiprocess in /home/ramak/anaconda3/lib/python3.6/site-packages (from cvxpy==1.0.3->-r requirements.txt (line 3)) (0.70.6.1)\n",
      "Requirement already satisfied: scs>=1.1.3 in /home/ramak/anaconda3/lib/python3.6/site-packages (from cvxpy==1.0.3->-r requirements.txt (line 3)) (2.0.2)\n",
      "Requirement already satisfied: toolz in /home/ramak/anaconda3/lib/python3.6/site-packages (from cvxpy==1.0.3->-r requirements.txt (line 3)) (0.9.0)\n",
      "Requirement already satisfied: osqp in /home/ramak/anaconda3/lib/python3.6/site-packages (from cvxpy==1.0.3->-r requirements.txt (line 3)) (0.4.0)\n",
      "Requirement already satisfied: ecos>=2 in /home/ramak/anaconda3/lib/python3.6/site-packages (from cvxpy==1.0.3->-r requirements.txt (line 3)) (2.0.5)\n",
      "Requirement already satisfied: decorator>=4.0.6 in /home/ramak/anaconda3/lib/python3.6/site-packages (from plotly==2.2.3->-r requirements.txt (line 7)) (4.3.0)\n",
      "Requirement already satisfied: nbformat>=4.2 in /home/ramak/anaconda3/lib/python3.6/site-packages (from plotly==2.2.3->-r requirements.txt (line 7)) (4.4.0)\n",
      "Requirement already satisfied: chardet<3.1.0,>=3.0.2 in /home/ramak/anaconda3/lib/python3.6/site-packages (from requests==2.18.4->-r requirements.txt (line 11)) (3.0.4)\n",
      "Requirement already satisfied: idna<2.7,>=2.5 in /home/ramak/anaconda3/lib/python3.6/site-packages (from requests==2.18.4->-r requirements.txt (line 11)) (2.6)\n",
      "Requirement already satisfied: urllib3<1.23,>=1.21.1 in /home/ramak/anaconda3/lib/python3.6/site-packages (from requests==2.18.4->-r requirements.txt (line 11)) (1.22)\n",
      "Requirement already satisfied: certifi>=2017.4.17 in /home/ramak/anaconda3/lib/python3.6/site-packages (from requests==2.18.4->-r requirements.txt (line 11)) (2018.4.16)\n",
      "Requirement already satisfied: networkx<2.0,>=1.9.1 in /home/ramak/anaconda3/lib/python3.6/site-packages (from zipline===1.2.0->-r requirements.txt (line 16)) (1.11)\n",
      "Requirement already satisfied: empyrical>=0.4.2 in /home/ramak/anaconda3/lib/python3.6/site-packages (from zipline===1.2.0->-r requirements.txt (line 16)) (0.5.0)\n",
      "Requirement already satisfied: patsy>=0.4.0 in /home/ramak/anaconda3/lib/python3.6/site-packages (from zipline===1.2.0->-r requirements.txt (line 16)) (0.5.0)\n",
      "Requirement already satisfied: lru-dict>=1.1.4 in /home/ramak/anaconda3/lib/python3.6/site-packages (from zipline===1.2.0->-r requirements.txt (line 16)) (1.1.6)\n",
      "Requirement already satisfied: setuptools>18.0 in /home/ramak/anaconda3/lib/python3.6/site-packages (from zipline===1.2.0->-r requirements.txt (line 16)) (39.1.0)\n",
      "Requirement already satisfied: numexpr>=2.6.1 in /home/ramak/anaconda3/lib/python3.6/site-packages (from zipline===1.2.0->-r requirements.txt (line 16)) (2.6.5)\n",
      "Requirement already satisfied: multipledispatch>=0.4.8 in /home/ramak/anaconda3/lib/python3.6/site-packages (from zipline===1.2.0->-r requirements.txt (line 16)) (0.5.0)\n",
      "Requirement already satisfied: pandas-datareader<0.6,>=0.2.1 in /home/ramak/anaconda3/lib/python3.6/site-packages (from zipline===1.2.0->-r requirements.txt (line 16)) (0.5.0)\n",
      "Requirement already satisfied: bottleneck>=1.0.0 in /home/ramak/anaconda3/lib/python3.6/site-packages (from zipline===1.2.0->-r requirements.txt (line 16)) (1.2.1)\n",
      "Requirement already satisfied: Logbook>=0.12.5 in /home/ramak/anaconda3/lib/python3.6/site-packages (from zipline===1.2.0->-r requirements.txt (line 16)) (1.4.0)\n",
      "Requirement already satisfied: click>=4.0.0 in /home/ramak/anaconda3/lib/python3.6/site-packages (from zipline===1.2.0->-r requirements.txt (line 16)) (6.7)\n",
      "Requirement already satisfied: cyordereddict>=0.2.2 in /home/ramak/anaconda3/lib/python3.6/site-packages (from zipline===1.2.0->-r requirements.txt (line 16)) (1.0.0)\n",
      "Requirement already satisfied: MarkupSafe>=0.23 in /home/ramak/anaconda3/lib/python3.6/site-packages (from zipline===1.2.0->-r requirements.txt (line 16)) (1.0)\n",
      "Requirement already satisfied: Cython>=0.25.2 in /home/ramak/anaconda3/lib/python3.6/site-packages (from zipline===1.2.0->-r requirements.txt (line 16)) (0.28.2)\n",
      "Requirement already satisfied: sortedcontainers>=1.4.4 in /home/ramak/anaconda3/lib/python3.6/site-packages (from zipline===1.2.0->-r requirements.txt (line 16)) (1.5.10)\n",
      "Requirement already satisfied: Mako>=1.0.1 in /home/ramak/anaconda3/lib/python3.6/site-packages (from zipline===1.2.0->-r requirements.txt (line 16)) (1.0.7)\n",
      "Requirement already satisfied: alembic>=0.7.7 in /home/ramak/anaconda3/lib/python3.6/site-packages (from zipline===1.2.0->-r requirements.txt (line 16)) (1.0.0)\n",
      "Requirement already satisfied: intervaltree>=2.1.0 in /home/ramak/anaconda3/lib/python3.6/site-packages (from zipline===1.2.0->-r requirements.txt (line 16)) (2.1.0)\n",
      "Requirement already satisfied: tables>=3.3.0 in /home/ramak/anaconda3/lib/python3.6/site-packages (from zipline===1.2.0->-r requirements.txt (line 16)) (3.4.3)\n",
      "Requirement already satisfied: pip>=7.1.0 in /home/ramak/anaconda3/lib/python3.6/site-packages (from zipline===1.2.0->-r requirements.txt (line 16)) (18.0)\n",
      "Requirement already satisfied: requests-file>=1.4.1 in /home/ramak/anaconda3/lib/python3.6/site-packages (from zipline===1.2.0->-r requirements.txt (line 16)) (1.4.3)\n",
      "Requirement already satisfied: sqlalchemy>=1.0.8 in /home/ramak/anaconda3/lib/python3.6/site-packages (from zipline===1.2.0->-r requirements.txt (line 16)) (1.2.7)\n"
     ]
    },
    {
     "name": "stdout",
     "output_type": "stream",
     "text": [
      "Requirement already satisfied: bcolz<1,>=0.12.1 in /home/ramak/anaconda3/lib/python3.6/site-packages (from zipline===1.2.0->-r requirements.txt (line 16)) (0.12.1)\n",
      "Requirement already satisfied: contextlib2>=0.4.0 in /home/ramak/anaconda3/lib/python3.6/site-packages (from zipline===1.2.0->-r requirements.txt (line 16)) (0.5.5)\n",
      "Requirement already satisfied: simplegeneric>0.8 in /home/ramak/anaconda3/lib/python3.6/site-packages (from IPython>=3.2.3->alphalens==0.3.2->-r requirements.txt (line 1)) (0.8.1)\n",
      "Requirement already satisfied: prompt-toolkit<2.0.0,>=1.0.15 in /home/ramak/anaconda3/lib/python3.6/site-packages (from IPython>=3.2.3->alphalens==0.3.2->-r requirements.txt (line 1)) (1.0.15)\n",
      "Requirement already satisfied: backcall in /home/ramak/anaconda3/lib/python3.6/site-packages (from IPython>=3.2.3->alphalens==0.3.2->-r requirements.txt (line 1)) (0.1.0)\n",
      "Requirement already satisfied: pickleshare in /home/ramak/anaconda3/lib/python3.6/site-packages (from IPython>=3.2.3->alphalens==0.3.2->-r requirements.txt (line 1)) (0.7.4)\n",
      "Requirement already satisfied: jedi>=0.10 in /home/ramak/anaconda3/lib/python3.6/site-packages (from IPython>=3.2.3->alphalens==0.3.2->-r requirements.txt (line 1)) (0.12.0)\n",
      "Requirement already satisfied: pexpect; sys_platform != \"win32\" in /home/ramak/anaconda3/lib/python3.6/site-packages (from IPython>=3.2.3->alphalens==0.3.2->-r requirements.txt (line 1)) (4.5.0)\n",
      "Requirement already satisfied: traitlets>=4.2 in /home/ramak/anaconda3/lib/python3.6/site-packages (from IPython>=3.2.3->alphalens==0.3.2->-r requirements.txt (line 1)) (4.3.2)\n",
      "Requirement already satisfied: pygments in /home/ramak/anaconda3/lib/python3.6/site-packages (from IPython>=3.2.3->alphalens==0.3.2->-r requirements.txt (line 1)) (2.2.0)\n",
      "Requirement already satisfied: kiwisolver>=1.0.1 in /home/ramak/anaconda3/lib/python3.6/site-packages (from matplotlib>=1.4.0->alphalens==0.3.2->-r requirements.txt (line 1)) (1.0.1)\n",
      "Requirement already satisfied: dill>=0.2.8.1 in /home/ramak/anaconda3/lib/python3.6/site-packages (from multiprocess->cvxpy==1.0.3->-r requirements.txt (line 3)) (0.2.8.2)\n",
      "Requirement already satisfied: future in /home/ramak/anaconda3/lib/python3.6/site-packages (from osqp->cvxpy==1.0.3->-r requirements.txt (line 3)) (0.16.0)\n",
      "Requirement already satisfied: ipython_genutils in /home/ramak/anaconda3/lib/python3.6/site-packages (from nbformat>=4.2->plotly==2.2.3->-r requirements.txt (line 7)) (0.2.0)\n",
      "Requirement already satisfied: jsonschema!=2.5.0,>=2.4 in /home/ramak/anaconda3/lib/python3.6/site-packages (from nbformat>=4.2->plotly==2.2.3->-r requirements.txt (line 7)) (2.6.0)\n",
      "Requirement already satisfied: jupyter_core in /home/ramak/anaconda3/lib/python3.6/site-packages (from nbformat>=4.2->plotly==2.2.3->-r requirements.txt (line 7)) (4.4.0)\n",
      "Requirement already satisfied: requests-ftp in /home/ramak/anaconda3/lib/python3.6/site-packages (from pandas-datareader<0.6,>=0.2.1->zipline===1.2.0->-r requirements.txt (line 16)) (0.3.1)\n",
      "Requirement already satisfied: python-editor>=0.3 in /home/ramak/anaconda3/lib/python3.6/site-packages (from alembic>=0.7.7->zipline===1.2.0->-r requirements.txt (line 16)) (1.0.3)\n",
      "Requirement already satisfied: wcwidth in /home/ramak/anaconda3/lib/python3.6/site-packages (from prompt-toolkit<2.0.0,>=1.0.15->IPython>=3.2.3->alphalens==0.3.2->-r requirements.txt (line 1)) (0.1.7)\n",
      "Requirement already satisfied: parso>=0.2.0 in /home/ramak/anaconda3/lib/python3.6/site-packages (from jedi>=0.10->IPython>=3.2.3->alphalens==0.3.2->-r requirements.txt (line 1)) (0.2.0)\n",
      "Requirement already satisfied: ptyprocess>=0.5 in /home/ramak/anaconda3/lib/python3.6/site-packages (from pexpect; sys_platform != \"win32\"->IPython>=3.2.3->alphalens==0.3.2->-r requirements.txt (line 1)) (0.5.2)\n",
      "Installing collected packages: numpy, zipline\n",
      "  Found existing installation: numpy 1.13.3\n",
      "    Uninstalling numpy-1.13.3:\n",
      "      Successfully uninstalled numpy-1.13.3\n",
      "  Found existing installation: zipline 1.3.0\n",
      "    Uninstalling zipline-1.3.0:\n",
      "      Successfully uninstalled zipline-1.3.0\n",
      "Successfully installed numpy-1.14.5 zipline-1.2.0\n",
      "\u001b[33mYou are using pip version 18.0, however version 18.1 is available.\n",
      "You should consider upgrading via the 'pip install --upgrade pip' command.\u001b[0m\n"
     ]
    }
   ],
   "source": [
    "import sys\n",
    "!{sys.executable} -m pip install -r requirements.txt"
   ]
  },
  {
   "cell_type": "code",
   "execution_count": 4,
   "metadata": {},
   "outputs": [],
   "source": [
    "import cvxpy as cvx\n",
    "import numpy as np\n",
    "import pandas as pd\n",
    "import time\n",
    "import os\n",
    "import quiz_helper\n",
    "import matplotlib.pyplot as plt"
   ]
  },
  {
   "cell_type": "code",
   "execution_count": 5,
   "metadata": {},
   "outputs": [],
   "source": [
    "%matplotlib inline\n",
    "plt.style.use('ggplot')\n",
    "plt.rcParams['figure.figsize'] = (14, 8)"
   ]
  },
  {
   "cell_type": "markdown",
   "metadata": {},
   "source": [
    "### data bundle"
   ]
  },
  {
   "cell_type": "code",
   "execution_count": 6,
   "metadata": {},
   "outputs": [],
   "source": [
    "import os\n",
    "import quiz_helper\n",
    "from zipline.data import bundles"
   ]
  },
  {
   "cell_type": "code",
   "execution_count": 7,
   "metadata": {},
   "outputs": [
    {
     "name": "stdout",
     "output_type": "stream",
     "text": [
      "Data Registered\n"
     ]
    }
   ],
   "source": [
    "os.environ['ZIPLINE_ROOT'] = os.path.join(os.getcwd(), '..', '..','data','module_4_quizzes_eod')\n",
    "ingest_func = bundles.csvdir.csvdir_equities(['daily'], quiz_helper.EOD_BUNDLE_NAME)\n",
    "bundles.register(quiz_helper.EOD_BUNDLE_NAME, ingest_func)\n",
    "print('Data Registered')"
   ]
  },
  {
   "cell_type": "markdown",
   "metadata": {},
   "source": [
    "### Build pipeline engine"
   ]
  },
  {
   "cell_type": "code",
   "execution_count": null,
   "metadata": {},
   "outputs": [],
   "source": [
    "from zipline.pipeline import Pipeline\n",
    "from zipline.pipeline.factors import AverageDollarVolume\n",
    "from zipline.utils.calendars import get_calendar\n",
    "\n",
    "universe = AverageDollarVolume(window_length=120).top(500) \n",
    "trading_calendar = get_calendar('NYSE') \n",
    "bundle_data = bundles.load(quiz_helper.EOD_BUNDLE_NAME)\n",
    "engine = quiz_helper.build_pipeline_engine(bundle_data, trading_calendar)"
   ]
  },
  {
   "cell_type": "markdown",
   "metadata": {},
   "source": [
    "### View Data¶\n",
    "With the pipeline engine built, let's get the stocks at the end of the period in the universe we're using. We'll use these tickers to generate the returns data for the our risk model."
   ]
  },
  {
   "cell_type": "code",
   "execution_count": null,
   "metadata": {},
   "outputs": [],
   "source": [
    "universe_end_date = pd.Timestamp('2016-01-05', tz='UTC')\n",
    "\n",
    "universe_tickers = engine\\\n",
    "    .run_pipeline(\n",
    "        Pipeline(screen=universe),\n",
    "        universe_end_date,\n",
    "        universe_end_date)\\\n",
    "    .index.get_level_values(1)\\\n",
    "    .values.tolist()\n",
    "    \n",
    "universe_tickers"
   ]
  },
  {
   "cell_type": "code",
   "execution_count": null,
   "metadata": {},
   "outputs": [],
   "source": [
    "len(universe_tickers)"
   ]
  },
  {
   "cell_type": "code",
   "execution_count": null,
   "metadata": {},
   "outputs": [],
   "source": [
    "from zipline.data.data_portal import DataPortal\n",
    "\n",
    "data_portal = DataPortal(\n",
    "    bundle_data.asset_finder,\n",
    "    trading_calendar=trading_calendar,\n",
    "    first_trading_day=bundle_data.equity_daily_bar_reader.first_trading_day,\n",
    "    equity_minute_reader=None,\n",
    "    equity_daily_reader=bundle_data.equity_daily_bar_reader,\n",
    "    adjustment_reader=bundle_data.adjustment_reader)"
   ]
  },
  {
   "cell_type": "markdown",
   "metadata": {},
   "source": [
    "## Get pricing data helper function"
   ]
  },
  {
   "cell_type": "code",
   "execution_count": null,
   "metadata": {},
   "outputs": [],
   "source": [
    "from quiz_helper import get_pricing"
   ]
  },
  {
   "cell_type": "markdown",
   "metadata": {},
   "source": [
    "## get pricing data into a dataframe"
   ]
  },
  {
   "cell_type": "code",
   "execution_count": null,
   "metadata": {},
   "outputs": [],
   "source": [
    "returns_df = \\\n",
    "    get_pricing(\n",
    "        data_portal,\n",
    "        trading_calendar,\n",
    "        universe_tickers,\n",
    "        universe_end_date - pd.DateOffset(years=5),\n",
    "        universe_end_date)\\\n",
    "    .pct_change()[1:].fillna(0) #convert prices into returns\n",
    "\n",
    "returns_df"
   ]
  },
  {
   "cell_type": "markdown",
   "metadata": {},
   "source": [
    "## Quiz 1\n",
    "\n",
    "Check out the [numpy.cov documentation](https://docs.scipy.org/doc/numpy-1.15.0/reference/generated/numpy.cov.html).  Then think about what's wrong with the following use of numpy.cov"
   ]
  },
  {
   "cell_type": "code",
   "execution_count": null,
   "metadata": {},
   "outputs": [],
   "source": [
    "# What's wrong with this?\n",
    "annualization_factor = 252\n",
    "covariance_assets_not_correct = annualization_factor*np.cov(returns_df)"
   ]
  },
  {
   "cell_type": "code",
   "execution_count": null,
   "metadata": {},
   "outputs": [],
   "source": [
    "## TODO: Check the shape of the covariance matrix\n"
   ]
  },
  {
   "cell_type": "markdown",
   "metadata": {},
   "source": [
    "## Answer 1 here:\n",
    "\n"
   ]
  },
  {
   "cell_type": "markdown",
   "metadata": {},
   "source": [
    "## Quiz 2\n",
    "How can you adjust the input so that we get the desired covariance matrix of assets?"
   ]
  },
  {
   "cell_type": "code",
   "execution_count": null,
   "metadata": {},
   "outputs": [],
   "source": [
    "# TODO: calculate the covariance matrix of assets\n",
    "annualization_factor = # ...\n",
    "covariance_assets = # ..."
   ]
  },
  {
   "cell_type": "code",
   "execution_count": null,
   "metadata": {},
   "outputs": [],
   "source": [
    "covariance_assets.shape"
   ]
  },
  {
   "cell_type": "markdown",
   "metadata": {},
   "source": [
    "## Answer 2:"
   ]
  },
  {
   "cell_type": "markdown",
   "metadata": {},
   "source": [
    "## Visualize the covariance matrix"
   ]
  },
  {
   "cell_type": "code",
   "execution_count": null,
   "metadata": {},
   "outputs": [],
   "source": [
    "import seaborn as sns"
   ]
  },
  {
   "cell_type": "code",
   "execution_count": null,
   "metadata": {},
   "outputs": [],
   "source": [
    "# view a heatmap of the covariance matrix\n",
    "sns.heatmap(covariance_assets,cmap='Paired');\n",
    "## If the colors aren't distinctive, please try a couple of these color schemes:\n",
    "## cmap = 'tab10'\n",
    "# cmap = 'Accent'"
   ]
  },
  {
   "cell_type": "markdown",
   "metadata": {},
   "source": [
    "## Quiz 3\n",
    "Looking at the colormap are covariances more likely to be positive or negative?  Are covariances likely to be above 0.10 or below 0.10?"
   ]
  },
  {
   "cell_type": "markdown",
   "metadata": {},
   "source": [
    "## Answer 3 here:\n"
   ]
  },
  {
   "cell_type": "markdown",
   "metadata": {},
   "source": [
    "## Fun Quiz!\n",
    "Do you know what the [seaborn visualization package](https://seaborn.pydata.org/index.html) was named after?"
   ]
  },
  {
   "cell_type": "markdown",
   "metadata": {},
   "source": [
    "## Fun Answer! here \n",
    "or just check the solution notebook!"
   ]
  },
  {
   "cell_type": "markdown",
   "metadata": {},
   "source": [
    "## Solutions\n",
    "The [solution notebook is here](historical_variance_solution.ipynb)"
   ]
  },
  {
   "cell_type": "code",
   "execution_count": null,
   "metadata": {},
   "outputs": [],
   "source": []
  }
 ],
 "metadata": {
  "kernelspec": {
   "display_name": "Python 3",
   "language": "python",
   "name": "python3"
  },
  "language_info": {
   "codemirror_mode": {
    "name": "ipython",
    "version": 3
   },
   "file_extension": ".py",
   "mimetype": "text/x-python",
   "name": "python",
   "nbconvert_exporter": "python",
   "pygments_lexer": "ipython3",
   "version": "3.6.5"
  }
 },
 "nbformat": 4,
 "nbformat_minor": 2
}
