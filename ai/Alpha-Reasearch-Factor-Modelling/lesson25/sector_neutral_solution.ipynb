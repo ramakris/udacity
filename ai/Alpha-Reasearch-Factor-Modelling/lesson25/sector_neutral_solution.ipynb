{
 "cells": [
  {
   "cell_type": "markdown",
   "metadata": {},
   "source": [
    "# Sector Neutral (Solution)"
   ]
  },
  {
   "cell_type": "markdown",
   "metadata": {},
   "source": [
    "## Install packages"
   ]
  },
  {
   "cell_type": "code",
   "execution_count": 1,
   "metadata": {},
   "outputs": [],
   "source": [
    "import sys"
   ]
  },
  {
   "cell_type": "code",
   "execution_count": 2,
   "metadata": {},
   "outputs": [
    {
     "name": "stdout",
     "output_type": "stream",
     "text": [
      "Requirement already satisfied: alphalens==0.3.2 in /home/ramak/anaconda3/lib/python3.6/site-packages (from -r requirements.txt (line 1)) (0.3.2)\n",
      "Requirement already satisfied: colour==0.1.5 in /home/ramak/anaconda3/lib/python3.6/site-packages (from -r requirements.txt (line 2)) (0.1.5)\n",
      "Requirement already satisfied: cvxpy==1.0.3 in /home/ramak/anaconda3/lib/python3.6/site-packages (from -r requirements.txt (line 3)) (1.0.3)\n",
      "Requirement already satisfied: cycler==0.10.0 in /home/ramak/anaconda3/lib/python3.6/site-packages (from -r requirements.txt (line 4)) (0.10.0)\n",
      "Collecting numpy==1.14.5 (from -r requirements.txt (line 5))\n",
      "  Using cached https://files.pythonhosted.org/packages/68/1e/116ad560de97694e2d0c1843a7a0075cc9f49e922454d32f49a80eb6f1f2/numpy-1.14.5-cp36-cp36m-manylinux1_x86_64.whl\n",
      "Requirement already satisfied: pandas==0.18.1 in /home/ramak/anaconda3/lib/python3.6/site-packages (from -r requirements.txt (line 6)) (0.18.1)\n",
      "Requirement already satisfied: plotly==2.2.3 in /home/ramak/anaconda3/lib/python3.6/site-packages (from -r requirements.txt (line 7)) (2.2.3)\n",
      "Requirement already satisfied: pyparsing==2.2.0 in /home/ramak/anaconda3/lib/python3.6/site-packages (from -r requirements.txt (line 8)) (2.2.0)\n",
      "Requirement already satisfied: python-dateutil==2.6.1 in /home/ramak/anaconda3/lib/python3.6/site-packages (from -r requirements.txt (line 9)) (2.6.1)\n",
      "Requirement already satisfied: pytz==2017.3 in /home/ramak/anaconda3/lib/python3.6/site-packages (from -r requirements.txt (line 10)) (2017.3)\n",
      "Requirement already satisfied: requests==2.18.4 in /home/ramak/anaconda3/lib/python3.6/site-packages (from -r requirements.txt (line 11)) (2.18.4)\n",
      "Requirement already satisfied: scipy==1.0.0 in /home/ramak/anaconda3/lib/python3.6/site-packages (from -r requirements.txt (line 12)) (1.0.0)\n",
      "Requirement already satisfied: scikit-learn==0.19.1 in /home/ramak/anaconda3/lib/python3.6/site-packages (from -r requirements.txt (line 13)) (0.19.1)\n",
      "Requirement already satisfied: six==1.11.0 in /home/ramak/anaconda3/lib/python3.6/site-packages (from -r requirements.txt (line 14)) (1.11.0)\n",
      "Requirement already satisfied: tqdm==4.19.5 in /home/ramak/anaconda3/lib/python3.6/site-packages (from -r requirements.txt (line 15)) (4.19.5)\n",
      "Collecting zipline===1.2.0 (from -r requirements.txt (line 16))\n",
      "Requirement already satisfied: graphviz==0.9 in /home/ramak/anaconda3/lib/python3.6/site-packages (from -r requirements.txt (line 17)) (0.9)\n",
      "Requirement already satisfied: seaborn>=0.6.0 in /home/ramak/anaconda3/lib/python3.6/site-packages (from alphalens==0.3.2->-r requirements.txt (line 1)) (0.9.0)\n",
      "Requirement already satisfied: matplotlib>=1.4.0 in /home/ramak/anaconda3/lib/python3.6/site-packages (from alphalens==0.3.2->-r requirements.txt (line 1)) (2.2.2)\n",
      "Requirement already satisfied: IPython>=3.2.3 in /home/ramak/anaconda3/lib/python3.6/site-packages (from alphalens==0.3.2->-r requirements.txt (line 1)) (6.4.0)\n",
      "Requirement already satisfied: statsmodels>=0.6.1 in /home/ramak/anaconda3/lib/python3.6/site-packages (from alphalens==0.3.2->-r requirements.txt (line 1)) (0.9.0)\n",
      "Requirement already satisfied: osqp in /home/ramak/anaconda3/lib/python3.6/site-packages (from cvxpy==1.0.3->-r requirements.txt (line 3)) (0.4.0)\n",
      "Requirement already satisfied: ecos>=2 in /home/ramak/anaconda3/lib/python3.6/site-packages (from cvxpy==1.0.3->-r requirements.txt (line 3)) (2.0.5)\n",
      "Requirement already satisfied: toolz in /home/ramak/anaconda3/lib/python3.6/site-packages (from cvxpy==1.0.3->-r requirements.txt (line 3)) (0.9.0)\n",
      "Requirement already satisfied: scs>=1.1.3 in /home/ramak/anaconda3/lib/python3.6/site-packages (from cvxpy==1.0.3->-r requirements.txt (line 3)) (2.0.2)\n",
      "Requirement already satisfied: multiprocess in /home/ramak/anaconda3/lib/python3.6/site-packages (from cvxpy==1.0.3->-r requirements.txt (line 3)) (0.70.6.1)\n",
      "Requirement already satisfied: fastcache in /home/ramak/anaconda3/lib/python3.6/site-packages (from cvxpy==1.0.3->-r requirements.txt (line 3)) (1.0.2)\n",
      "Requirement already satisfied: nbformat>=4.2 in /home/ramak/anaconda3/lib/python3.6/site-packages (from plotly==2.2.3->-r requirements.txt (line 7)) (4.4.0)\n",
      "Requirement already satisfied: decorator>=4.0.6 in /home/ramak/anaconda3/lib/python3.6/site-packages (from plotly==2.2.3->-r requirements.txt (line 7)) (4.3.0)\n",
      "Requirement already satisfied: chardet<3.1.0,>=3.0.2 in /home/ramak/anaconda3/lib/python3.6/site-packages (from requests==2.18.4->-r requirements.txt (line 11)) (3.0.4)\n",
      "Requirement already satisfied: idna<2.7,>=2.5 in /home/ramak/anaconda3/lib/python3.6/site-packages (from requests==2.18.4->-r requirements.txt (line 11)) (2.6)\n",
      "Requirement already satisfied: urllib3<1.23,>=1.21.1 in /home/ramak/anaconda3/lib/python3.6/site-packages (from requests==2.18.4->-r requirements.txt (line 11)) (1.22)\n",
      "Requirement already satisfied: certifi>=2017.4.17 in /home/ramak/anaconda3/lib/python3.6/site-packages (from requests==2.18.4->-r requirements.txt (line 11)) (2018.4.16)\n",
      "Requirement already satisfied: patsy>=0.4.0 in /home/ramak/anaconda3/lib/python3.6/site-packages (from zipline===1.2.0->-r requirements.txt (line 16)) (0.5.0)\n",
      "Requirement already satisfied: pip>=7.1.0 in /home/ramak/anaconda3/lib/python3.6/site-packages (from zipline===1.2.0->-r requirements.txt (line 16)) (18.0)\n",
      "Requirement already satisfied: alembic>=0.7.7 in /home/ramak/anaconda3/lib/python3.6/site-packages (from zipline===1.2.0->-r requirements.txt (line 16)) (1.0.0)\n",
      "Requirement already satisfied: Cython>=0.25.2 in /home/ramak/anaconda3/lib/python3.6/site-packages (from zipline===1.2.0->-r requirements.txt (line 16)) (0.28.2)\n",
      "Requirement already satisfied: lru-dict>=1.1.4 in /home/ramak/anaconda3/lib/python3.6/site-packages (from zipline===1.2.0->-r requirements.txt (line 16)) (1.1.6)\n",
      "Requirement already satisfied: pandas-datareader<0.6,>=0.2.1 in /home/ramak/anaconda3/lib/python3.6/site-packages (from zipline===1.2.0->-r requirements.txt (line 16)) (0.5.0)\n",
      "Requirement already satisfied: empyrical>=0.4.2 in /home/ramak/anaconda3/lib/python3.6/site-packages (from zipline===1.2.0->-r requirements.txt (line 16)) (0.5.0)\n",
      "Requirement already satisfied: bottleneck>=1.0.0 in /home/ramak/anaconda3/lib/python3.6/site-packages (from zipline===1.2.0->-r requirements.txt (line 16)) (1.2.1)\n",
      "Requirement already satisfied: Logbook>=0.12.5 in /home/ramak/anaconda3/lib/python3.6/site-packages (from zipline===1.2.0->-r requirements.txt (line 16)) (1.4.0)\n",
      "Requirement already satisfied: tables>=3.3.0 in /home/ramak/anaconda3/lib/python3.6/site-packages (from zipline===1.2.0->-r requirements.txt (line 16)) (3.4.3)\n",
      "Requirement already satisfied: click>=4.0.0 in /home/ramak/anaconda3/lib/python3.6/site-packages (from zipline===1.2.0->-r requirements.txt (line 16)) (6.7)\n",
      "Requirement already satisfied: contextlib2>=0.4.0 in /home/ramak/anaconda3/lib/python3.6/site-packages (from zipline===1.2.0->-r requirements.txt (line 16)) (0.5.5)\n",
      "Requirement already satisfied: cyordereddict>=0.2.2 in /home/ramak/anaconda3/lib/python3.6/site-packages (from zipline===1.2.0->-r requirements.txt (line 16)) (1.0.0)\n",
      "Requirement already satisfied: Mako>=1.0.1 in /home/ramak/anaconda3/lib/python3.6/site-packages (from zipline===1.2.0->-r requirements.txt (line 16)) (1.0.7)\n",
      "Requirement already satisfied: sqlalchemy>=1.0.8 in /home/ramak/anaconda3/lib/python3.6/site-packages (from zipline===1.2.0->-r requirements.txt (line 16)) (1.2.7)\n",
      "Requirement already satisfied: MarkupSafe>=0.23 in /home/ramak/anaconda3/lib/python3.6/site-packages (from zipline===1.2.0->-r requirements.txt (line 16)) (1.0)\n",
      "Requirement already satisfied: intervaltree>=2.1.0 in /home/ramak/anaconda3/lib/python3.6/site-packages (from zipline===1.2.0->-r requirements.txt (line 16)) (2.1.0)\n",
      "Requirement already satisfied: multipledispatch>=0.4.8 in /home/ramak/anaconda3/lib/python3.6/site-packages (from zipline===1.2.0->-r requirements.txt (line 16)) (0.5.0)\n",
      "Requirement already satisfied: setuptools>18.0 in /home/ramak/anaconda3/lib/python3.6/site-packages (from zipline===1.2.0->-r requirements.txt (line 16)) (39.1.0)\n",
      "Requirement already satisfied: numexpr>=2.6.1 in /home/ramak/anaconda3/lib/python3.6/site-packages (from zipline===1.2.0->-r requirements.txt (line 16)) (2.6.5)\n",
      "Requirement already satisfied: networkx<2.0,>=1.9.1 in /home/ramak/anaconda3/lib/python3.6/site-packages (from zipline===1.2.0->-r requirements.txt (line 16)) (1.11)\n",
      "Requirement already satisfied: sortedcontainers>=1.4.4 in /home/ramak/anaconda3/lib/python3.6/site-packages (from zipline===1.2.0->-r requirements.txt (line 16)) (1.5.10)\n",
      "Requirement already satisfied: bcolz<1,>=0.12.1 in /home/ramak/anaconda3/lib/python3.6/site-packages (from zipline===1.2.0->-r requirements.txt (line 16)) (0.12.1)\n",
      "Requirement already satisfied: requests-file>=1.4.1 in /home/ramak/anaconda3/lib/python3.6/site-packages (from zipline===1.2.0->-r requirements.txt (line 16)) (1.4.3)\n",
      "Requirement already satisfied: kiwisolver>=1.0.1 in /home/ramak/anaconda3/lib/python3.6/site-packages (from matplotlib>=1.4.0->alphalens==0.3.2->-r requirements.txt (line 1)) (1.0.1)\n",
      "Requirement already satisfied: simplegeneric>0.8 in /home/ramak/anaconda3/lib/python3.6/site-packages (from IPython>=3.2.3->alphalens==0.3.2->-r requirements.txt (line 1)) (0.8.1)\n",
      "Requirement already satisfied: backcall in /home/ramak/anaconda3/lib/python3.6/site-packages (from IPython>=3.2.3->alphalens==0.3.2->-r requirements.txt (line 1)) (0.1.0)\n",
      "Requirement already satisfied: traitlets>=4.2 in /home/ramak/anaconda3/lib/python3.6/site-packages (from IPython>=3.2.3->alphalens==0.3.2->-r requirements.txt (line 1)) (4.3.2)\n",
      "Requirement already satisfied: prompt-toolkit<2.0.0,>=1.0.15 in /home/ramak/anaconda3/lib/python3.6/site-packages (from IPython>=3.2.3->alphalens==0.3.2->-r requirements.txt (line 1)) (1.0.15)\n",
      "Requirement already satisfied: pygments in /home/ramak/anaconda3/lib/python3.6/site-packages (from IPython>=3.2.3->alphalens==0.3.2->-r requirements.txt (line 1)) (2.2.0)\n",
      "Requirement already satisfied: pickleshare in /home/ramak/anaconda3/lib/python3.6/site-packages (from IPython>=3.2.3->alphalens==0.3.2->-r requirements.txt (line 1)) (0.7.4)\n",
      "Requirement already satisfied: pexpect; sys_platform != \"win32\" in /home/ramak/anaconda3/lib/python3.6/site-packages (from IPython>=3.2.3->alphalens==0.3.2->-r requirements.txt (line 1)) (4.5.0)\n",
      "Requirement already satisfied: jedi>=0.10 in /home/ramak/anaconda3/lib/python3.6/site-packages (from IPython>=3.2.3->alphalens==0.3.2->-r requirements.txt (line 1)) (0.12.0)\n"
     ]
    },
    {
     "name": "stdout",
     "output_type": "stream",
     "text": [
      "Requirement already satisfied: future in /home/ramak/anaconda3/lib/python3.6/site-packages (from osqp->cvxpy==1.0.3->-r requirements.txt (line 3)) (0.16.0)\n",
      "Requirement already satisfied: dill>=0.2.8.1 in /home/ramak/anaconda3/lib/python3.6/site-packages (from multiprocess->cvxpy==1.0.3->-r requirements.txt (line 3)) (0.2.8.2)\n",
      "Requirement already satisfied: ipython_genutils in /home/ramak/anaconda3/lib/python3.6/site-packages (from nbformat>=4.2->plotly==2.2.3->-r requirements.txt (line 7)) (0.2.0)\n",
      "Requirement already satisfied: jsonschema!=2.5.0,>=2.4 in /home/ramak/anaconda3/lib/python3.6/site-packages (from nbformat>=4.2->plotly==2.2.3->-r requirements.txt (line 7)) (2.6.0)\n",
      "Requirement already satisfied: jupyter_core in /home/ramak/anaconda3/lib/python3.6/site-packages (from nbformat>=4.2->plotly==2.2.3->-r requirements.txt (line 7)) (4.4.0)\n",
      "Requirement already satisfied: python-editor>=0.3 in /home/ramak/anaconda3/lib/python3.6/site-packages (from alembic>=0.7.7->zipline===1.2.0->-r requirements.txt (line 16)) (1.0.3)\n",
      "Requirement already satisfied: requests-ftp in /home/ramak/anaconda3/lib/python3.6/site-packages (from pandas-datareader<0.6,>=0.2.1->zipline===1.2.0->-r requirements.txt (line 16)) (0.3.1)\n",
      "Requirement already satisfied: wcwidth in /home/ramak/anaconda3/lib/python3.6/site-packages (from prompt-toolkit<2.0.0,>=1.0.15->IPython>=3.2.3->alphalens==0.3.2->-r requirements.txt (line 1)) (0.1.7)\n",
      "Requirement already satisfied: ptyprocess>=0.5 in /home/ramak/anaconda3/lib/python3.6/site-packages (from pexpect; sys_platform != \"win32\"->IPython>=3.2.3->alphalens==0.3.2->-r requirements.txt (line 1)) (0.5.2)\n",
      "Requirement already satisfied: parso>=0.2.0 in /home/ramak/anaconda3/lib/python3.6/site-packages (from jedi>=0.10->IPython>=3.2.3->alphalens==0.3.2->-r requirements.txt (line 1)) (0.2.0)\n",
      "Installing collected packages: numpy, zipline\n",
      "  Found existing installation: numpy 1.13.3\n",
      "    Uninstalling numpy-1.13.3:\n",
      "      Successfully uninstalled numpy-1.13.3\n",
      "  Found existing installation: zipline 1.3.0\n",
      "    Uninstalling zipline-1.3.0:\n",
      "      Successfully uninstalled zipline-1.3.0\n",
      "Successfully installed numpy-1.14.5 zipline-1.2.0\n",
      "\u001b[33mYou are using pip version 18.0, however version 18.1 is available.\n",
      "You should consider upgrading via the 'pip install --upgrade pip' command.\u001b[0m\n"
     ]
    }
   ],
   "source": [
    "!{sys.executable} -m pip install -r requirements.txt"
   ]
  },
  {
   "cell_type": "code",
   "execution_count": 3,
   "metadata": {},
   "outputs": [],
   "source": [
    "import cvxpy as cvx\n",
    "import numpy as np\n",
    "import pandas as pd\n",
    "import time\n",
    "import os\n",
    "import quiz_helper\n",
    "import matplotlib.pyplot as plt"
   ]
  },
  {
   "cell_type": "code",
   "execution_count": 4,
   "metadata": {},
   "outputs": [],
   "source": [
    "%matplotlib inline\n",
    "plt.style.use('ggplot')\n",
    "plt.rcParams['figure.figsize'] = (14, 8)"
   ]
  },
  {
   "cell_type": "markdown",
   "metadata": {},
   "source": [
    "## following zipline bundle documentation\n",
    "\n",
    "http://www.zipline.io/bundles.html#ingesting-data-from-csv-files"
   ]
  },
  {
   "cell_type": "markdown",
   "metadata": {},
   "source": [
    "### data bundle"
   ]
  },
  {
   "cell_type": "code",
   "execution_count": 5,
   "metadata": {},
   "outputs": [],
   "source": [
    "import os\n",
    "import quiz_helper\n",
    "from zipline.data import bundles"
   ]
  },
  {
   "cell_type": "code",
   "execution_count": 6,
   "metadata": {},
   "outputs": [
    {
     "name": "stdout",
     "output_type": "stream",
     "text": [
      "Data Registered\n"
     ]
    }
   ],
   "source": [
    "os.environ['ZIPLINE_ROOT'] = os.path.join(os.getcwd(), '..', '..','data','module_4_quizzes_eod')\n",
    "ingest_func = bundles.csvdir.csvdir_equities(['daily'], quiz_helper.EOD_BUNDLE_NAME)\n",
    "bundles.register(quiz_helper.EOD_BUNDLE_NAME, ingest_func)\n",
    "print('Data Registered')"
   ]
  },
  {
   "cell_type": "markdown",
   "metadata": {},
   "source": [
    "### Build pipeline engine"
   ]
  },
  {
   "cell_type": "code",
   "execution_count": 7,
   "metadata": {},
   "outputs": [
    {
     "ename": "ValueError",
     "evalue": "no data for bundle 'm4-quiz-eod-quotemedia' on or before 2018-11-11 19:53:49.042206+00:00\nmaybe you need to run: $ zipline ingest -b m4-quiz-eod-quotemedia",
     "output_type": "error",
     "traceback": [
      "\u001b[0;31m---------------------------------------------------------------------------\u001b[0m",
      "\u001b[0;31mFileNotFoundError\u001b[0m                         Traceback (most recent call last)",
      "\u001b[0;32m~/anaconda3/lib/python3.6/site-packages/zipline/data/bundles/core.py\u001b[0m in \u001b[0;36mmost_recent_data\u001b[0;34m(bundle_name, timestamp, environ)\u001b[0m\n\u001b[1;32m    479\u001b[0m             candidates = os.listdir(\n\u001b[0;32m--> 480\u001b[0;31m                 \u001b[0mpth\u001b[0m\u001b[0;34m.\u001b[0m\u001b[0mdata_path\u001b[0m\u001b[0;34m(\u001b[0m\u001b[0;34m[\u001b[0m\u001b[0mbundle_name\u001b[0m\u001b[0;34m]\u001b[0m\u001b[0;34m,\u001b[0m \u001b[0menviron\u001b[0m\u001b[0;34m=\u001b[0m\u001b[0menviron\u001b[0m\u001b[0;34m)\u001b[0m\u001b[0;34m,\u001b[0m\u001b[0;34m\u001b[0m\u001b[0m\n\u001b[0m\u001b[1;32m    481\u001b[0m             )\n",
      "\u001b[0;31mFileNotFoundError\u001b[0m: [Errno 2] No such file or directory: '/home/ramak/udacity/ai/Alpha-Reasearch-Factor-Modelling/lesson25/../../data/module_4_quizzes_eod/data/m4-quiz-eod-quotemedia'",
      "\nDuring handling of the above exception, another exception occurred:\n",
      "\u001b[0;31mValueError\u001b[0m                                Traceback (most recent call last)",
      "\u001b[0;32m<ipython-input-7-5e2d7c96a570>\u001b[0m in \u001b[0;36m<module>\u001b[0;34m()\u001b[0m\n\u001b[1;32m      5\u001b[0m \u001b[0muniverse\u001b[0m \u001b[0;34m=\u001b[0m \u001b[0mAverageDollarVolume\u001b[0m\u001b[0;34m(\u001b[0m\u001b[0mwindow_length\u001b[0m\u001b[0;34m=\u001b[0m\u001b[0;36m120\u001b[0m\u001b[0;34m)\u001b[0m\u001b[0;34m.\u001b[0m\u001b[0mtop\u001b[0m\u001b[0;34m(\u001b[0m\u001b[0;36m500\u001b[0m\u001b[0;34m)\u001b[0m\u001b[0;34m\u001b[0m\u001b[0m\n\u001b[1;32m      6\u001b[0m \u001b[0mtrading_calendar\u001b[0m \u001b[0;34m=\u001b[0m \u001b[0mget_calendar\u001b[0m\u001b[0;34m(\u001b[0m\u001b[0;34m'NYSE'\u001b[0m\u001b[0;34m)\u001b[0m\u001b[0;34m\u001b[0m\u001b[0m\n\u001b[0;32m----> 7\u001b[0;31m \u001b[0mbundle_data\u001b[0m \u001b[0;34m=\u001b[0m \u001b[0mbundles\u001b[0m\u001b[0;34m.\u001b[0m\u001b[0mload\u001b[0m\u001b[0;34m(\u001b[0m\u001b[0mquiz_helper\u001b[0m\u001b[0;34m.\u001b[0m\u001b[0mEOD_BUNDLE_NAME\u001b[0m\u001b[0;34m)\u001b[0m\u001b[0;34m\u001b[0m\u001b[0m\n\u001b[0m\u001b[1;32m      8\u001b[0m \u001b[0mengine\u001b[0m \u001b[0;34m=\u001b[0m \u001b[0mquiz_helper\u001b[0m\u001b[0;34m.\u001b[0m\u001b[0mbuild_pipeline_engine\u001b[0m\u001b[0;34m(\u001b[0m\u001b[0mbundle_data\u001b[0m\u001b[0;34m,\u001b[0m \u001b[0mtrading_calendar\u001b[0m\u001b[0;34m)\u001b[0m\u001b[0;34m\u001b[0m\u001b[0m\n",
      "\u001b[0;32m~/anaconda3/lib/python3.6/site-packages/zipline/data/bundles/core.py\u001b[0m in \u001b[0;36mload\u001b[0;34m(name, environ, timestamp)\u001b[0m\n\u001b[1;32m    519\u001b[0m         \u001b[0;32mif\u001b[0m \u001b[0mtimestamp\u001b[0m \u001b[0;32mis\u001b[0m \u001b[0;32mNone\u001b[0m\u001b[0;34m:\u001b[0m\u001b[0;34m\u001b[0m\u001b[0m\n\u001b[1;32m    520\u001b[0m             \u001b[0mtimestamp\u001b[0m \u001b[0;34m=\u001b[0m \u001b[0mpd\u001b[0m\u001b[0;34m.\u001b[0m\u001b[0mTimestamp\u001b[0m\u001b[0;34m.\u001b[0m\u001b[0mutcnow\u001b[0m\u001b[0;34m(\u001b[0m\u001b[0;34m)\u001b[0m\u001b[0;34m\u001b[0m\u001b[0m\n\u001b[0;32m--> 521\u001b[0;31m         \u001b[0mtimestr\u001b[0m \u001b[0;34m=\u001b[0m \u001b[0mmost_recent_data\u001b[0m\u001b[0;34m(\u001b[0m\u001b[0mname\u001b[0m\u001b[0;34m,\u001b[0m \u001b[0mtimestamp\u001b[0m\u001b[0;34m,\u001b[0m \u001b[0menviron\u001b[0m\u001b[0;34m=\u001b[0m\u001b[0menviron\u001b[0m\u001b[0;34m)\u001b[0m\u001b[0;34m\u001b[0m\u001b[0m\n\u001b[0m\u001b[1;32m    522\u001b[0m         return BundleData(\n\u001b[1;32m    523\u001b[0m             asset_finder=AssetFinder(\n",
      "\u001b[0;32m~/anaconda3/lib/python3.6/site-packages/zipline/data/bundles/core.py\u001b[0m in \u001b[0;36mmost_recent_data\u001b[0;34m(bundle_name, timestamp, environ)\u001b[0m\n\u001b[1;32m    495\u001b[0m                 'maybe you need to run: $ zipline ingest -b {bundle}'.format(\n\u001b[1;32m    496\u001b[0m                     \u001b[0mbundle\u001b[0m\u001b[0;34m=\u001b[0m\u001b[0mbundle_name\u001b[0m\u001b[0;34m,\u001b[0m\u001b[0;34m\u001b[0m\u001b[0m\n\u001b[0;32m--> 497\u001b[0;31m                     \u001b[0mtimestamp\u001b[0m\u001b[0;34m=\u001b[0m\u001b[0mtimestamp\u001b[0m\u001b[0;34m,\u001b[0m\u001b[0;34m\u001b[0m\u001b[0m\n\u001b[0m\u001b[1;32m    498\u001b[0m                 ),\n\u001b[1;32m    499\u001b[0m             )\n",
      "\u001b[0;31mValueError\u001b[0m: no data for bundle 'm4-quiz-eod-quotemedia' on or before 2018-11-11 19:53:49.042206+00:00\nmaybe you need to run: $ zipline ingest -b m4-quiz-eod-quotemedia"
     ]
    }
   ],
   "source": [
    "from zipline.pipeline import Pipeline\n",
    "from zipline.pipeline.factors import AverageDollarVolume\n",
    "from zipline.utils.calendars import get_calendar\n",
    "\n",
    "universe = AverageDollarVolume(window_length=120).top(500) \n",
    "trading_calendar = get_calendar('NYSE') \n",
    "bundle_data = bundles.load(quiz_helper.EOD_BUNDLE_NAME)\n",
    "engine = quiz_helper.build_pipeline_engine(bundle_data, trading_calendar)"
   ]
  },
  {
   "cell_type": "markdown",
   "metadata": {},
   "source": [
    "### View Data¶\n",
    "With the pipeline engine built, let's get the stocks at the end of the period in the universe we're using. We'll use these tickers to generate the returns data for the our risk model."
   ]
  },
  {
   "cell_type": "code",
   "execution_count": null,
   "metadata": {},
   "outputs": [],
   "source": [
    "universe_end_date = pd.Timestamp('2016-01-05', tz='UTC')\n",
    "\n",
    "universe_tickers = engine\\\n",
    "    .run_pipeline(\n",
    "        Pipeline(screen=universe),\n",
    "        universe_end_date,\n",
    "        universe_end_date)\\\n",
    "    .index.get_level_values(1)\\\n",
    "    .values.tolist()\n",
    "    \n",
    "universe_tickers"
   ]
  },
  {
   "cell_type": "markdown",
   "metadata": {},
   "source": [
    "# Get Returns data"
   ]
  },
  {
   "cell_type": "code",
   "execution_count": null,
   "metadata": {},
   "outputs": [],
   "source": [
    "from zipline.data.data_portal import DataPortal\n",
    "\n",
    "data_portal = DataPortal(\n",
    "    bundle_data.asset_finder,\n",
    "    trading_calendar=trading_calendar,\n",
    "    first_trading_day=bundle_data.equity_daily_bar_reader.first_trading_day,\n",
    "    equity_minute_reader=None,\n",
    "    equity_daily_reader=bundle_data.equity_daily_bar_reader,\n",
    "    adjustment_reader=bundle_data.adjustment_reader)"
   ]
  },
  {
   "cell_type": "markdown",
   "metadata": {},
   "source": [
    "## Get pricing data helper function"
   ]
  },
  {
   "cell_type": "code",
   "execution_count": null,
   "metadata": {},
   "outputs": [],
   "source": [
    "def get_pricing(data_portal, trading_calendar, assets, start_date, end_date, field='close'):\n",
    "    end_dt = pd.Timestamp(end_date.strftime('%Y-%m-%d'), tz='UTC', offset='C')\n",
    "    start_dt = pd.Timestamp(start_date.strftime('%Y-%m-%d'), tz='UTC', offset='C')\n",
    "\n",
    "    end_loc = trading_calendar.closes.index.get_loc(end_dt)\n",
    "    start_loc = trading_calendar.closes.index.get_loc(start_dt)\n",
    "\n",
    "    return data_portal.get_history_window(\n",
    "        assets=assets,\n",
    "        end_dt=end_dt,\n",
    "        bar_count=end_loc - start_loc,\n",
    "        frequency='1d',\n",
    "        field=field,\n",
    "        data_frequency='daily')"
   ]
  },
  {
   "cell_type": "markdown",
   "metadata": {},
   "source": [
    "## get pricing data into a dataframe"
   ]
  },
  {
   "cell_type": "code",
   "execution_count": null,
   "metadata": {},
   "outputs": [],
   "source": [
    "returns_df = \\\n",
    "    get_pricing(\n",
    "        data_portal,\n",
    "        trading_calendar,\n",
    "        universe_tickers,\n",
    "        universe_end_date - pd.DateOffset(years=5),\n",
    "        universe_end_date)\\\n",
    "    .pct_change()[1:].fillna(0) #convert prices into returns\n",
    "\n",
    "returns_df"
   ]
  },
  {
   "cell_type": "markdown",
   "metadata": {},
   "source": [
    "## Sector data helper function\n",
    "We'll create an object for you, which defines a sector for each stock.  The sectors are represented by integers.  We inherit from the Classifier class.  [Documentation for Classifier](https://www.quantopian.com/posts/pipeline-classifiers-are-here), and the [source code for Classifier](https://github.com/quantopian/zipline/blob/master/zipline/pipeline/classifiers/classifier.py)"
   ]
  },
  {
   "cell_type": "code",
   "execution_count": null,
   "metadata": {},
   "outputs": [],
   "source": [
    "from zipline.pipeline.classifiers import Classifier\n",
    "from zipline.utils.numpy_utils import int64_dtype\n",
    "class Sector(Classifier):\n",
    "    dtype = int64_dtype\n",
    "    window_length = 0\n",
    "    inputs = ()\n",
    "    missing_value = -1\n",
    "\n",
    "    def __init__(self):\n",
    "        self.data = np.load('../../data/project_4_sector/data.npy')\n",
    "\n",
    "    def _compute(self, arrays, dates, assets, mask):\n",
    "        return np.where(\n",
    "            mask,\n",
    "            self.data[assets],\n",
    "            self.missing_value,\n",
    "        )"
   ]
  },
  {
   "cell_type": "code",
   "execution_count": null,
   "metadata": {},
   "outputs": [],
   "source": [
    "sector = Sector()\n",
    "sector"
   ]
  },
  {
   "cell_type": "code",
   "execution_count": null,
   "metadata": {},
   "outputs": [],
   "source": [
    "len(sector.data)"
   ]
  },
  {
   "cell_type": "code",
   "execution_count": null,
   "metadata": {},
   "outputs": [],
   "source": [
    "sector.data"
   ]
  },
  {
   "cell_type": "markdown",
   "metadata": {},
   "source": [
    "## Quiz 1\n",
    "How many unique sectors are in the sector variable?"
   ]
  },
  {
   "cell_type": "markdown",
   "metadata": {},
   "source": [
    "## Answer 1\n",
    "There are 11 sector categories.\n",
    "-1 represents missing values.  There are categories 0 to 10"
   ]
  },
  {
   "cell_type": "code",
   "execution_count": null,
   "metadata": {},
   "outputs": [],
   "source": [
    "print(f\"set of unique categories: {set(sector.data)}\")"
   ]
  },
  {
   "cell_type": "markdown",
   "metadata": {},
   "source": [
    "## Create an alpha factor based on momentum\n",
    "\n",
    "We want to calculate the one-year return.  \n",
    "In other words, get the close price of today, minus the close price of 252 trading days ago, and divide by that price from 252 days ago.\n",
    "\n",
    "$1YearReturn_t = \\frac{price_{t} - price_{t-252}}{price_{t-252}}$"
   ]
  },
  {
   "cell_type": "code",
   "execution_count": null,
   "metadata": {},
   "outputs": [],
   "source": [
    "from zipline.pipeline.factors import Returns"
   ]
  },
  {
   "cell_type": "markdown",
   "metadata": {},
   "source": [
    "## We'll use 2 years of data to calculate the factor"
   ]
  },
  {
   "cell_type": "markdown",
   "metadata": {},
   "source": [
    "**Note:** Going back 2 years falls on a day when the market is closed. Pipeline package doesn't handle start or end dates that don't fall on days when the market is open. To fix this, we went back 2 extra days to fall on the next day when the market is open."
   ]
  },
  {
   "cell_type": "code",
   "execution_count": null,
   "metadata": {},
   "outputs": [],
   "source": [
    "factor_start_date = universe_end_date - pd.DateOffset(years=2, days=2)\n",
    "factor_start_date"
   ]
  },
  {
   "cell_type": "code",
   "execution_count": null,
   "metadata": {},
   "outputs": [],
   "source": [
    "## 1 year returns can be the basis for an alpha factor\n",
    "p1 = Pipeline(screen=universe)\n",
    "rets1 = Returns(window_length=252, mask=universe)\n",
    "p1.add(rets1,\"1YearReturns\")\n",
    "df1 = engine.run_pipeline(p1, factor_start_date, universe_end_date)"
   ]
  },
  {
   "cell_type": "code",
   "execution_count": null,
   "metadata": {},
   "outputs": [],
   "source": [
    "#graphviz lets us visualize the pipeline\n",
    "import graphviz"
   ]
  },
  {
   "cell_type": "code",
   "execution_count": null,
   "metadata": {},
   "outputs": [],
   "source": [
    "p1.show_graph(format='png')"
   ]
  },
  {
   "cell_type": "markdown",
   "metadata": {},
   "source": [
    "## View the data of the factor"
   ]
  },
  {
   "cell_type": "code",
   "execution_count": null,
   "metadata": {},
   "outputs": [],
   "source": [
    "df1.head()"
   ]
  },
  {
   "cell_type": "markdown",
   "metadata": {},
   "source": [
    "## Explore the demean function\n",
    "\n",
    "The Returns class inherits from zipline.pipeline.factors.factor.  \n",
    "[The documentation for demean is located here](https://www.zipline.io/appendix.html#zipline.pipeline.factors.Factor.demean), and is also pasted below:\n",
    "\n",
    "```\n",
    "demean(mask=sentinel('NotSpecified'), groupby=sentinel('NotSpecified'))[source]\n",
    "Construct a Factor that computes self and subtracts the mean from row of the result.\n",
    "\n",
    "If mask is supplied, ignore values where mask returns False when computing row means, and output NaN anywhere the mask is False.\n",
    "\n",
    "If groupby is supplied, compute by partitioning each row based on the values produced by groupby, de-meaning the partitioned arrays, and stitching the sub-results back together.\n",
    "\n",
    "Parameters:\t\n",
    "mask (zipline.pipeline.Filter, optional) – A Filter defining values to ignore when computing means.\n",
    "groupby (zipline.pipeline.Classifier, optional) – A classifier defining partitions over which to compute means.\n",
    "```"
   ]
  },
  {
   "cell_type": "markdown",
   "metadata": {},
   "source": [
    "## Quiz 2\n",
    "\n",
    "By looking at the documentation, and then the source code for `demean`, what are two parameters for this function?  Which one or ones would you call if you wanted to demean by sector and wish to demean for all values in the chosen universe?\n",
    "\n",
    "[The source code](https://www.zipline.io/_modules/zipline/pipeline/factors/factor.html#Factor.demean) has useful comments to help you answer this question."
   ]
  },
  {
   "cell_type": "markdown",
   "metadata": {},
   "source": [
    "## Answer 2\n",
    "\n",
    "We would use the groupby parameter, and we don't need to use the mask parameter, since we are not going to exclude any of the stocks in the universe from the demean calculation.\n"
   ]
  },
  {
   "cell_type": "markdown",
   "metadata": {},
   "source": [
    "## Quiz 3\n",
    "Turn 1 year returns into an alpha factor\n",
    "\n",
    "We can do some processing to convert our signal (1 year return) into an alpha factor. One step is to demean by sector.\n",
    "\n",
    "* demean\n",
    "For each stock, we want to take the average return of stocks that are in the same sector, and then remove this from the return of each individual stock."
   ]
  },
  {
   "cell_type": "markdown",
   "metadata": {},
   "source": [
    "## Answer 3"
   ]
  },
  {
   "cell_type": "code",
   "execution_count": null,
   "metadata": {},
   "outputs": [],
   "source": [
    "#TODO\n",
    "# create a pipeline called p2\n",
    "p2 = Pipeline(screen=universe)\n",
    "# create a factor of one year returns, deman by sector\n",
    "factor_demean_by_sector = (\n",
    "    Returns(window_length=252, mask=universe).\n",
    "    demean(groupby=Sector()) #we use the custom Sector class that we reviewed earlier\n",
    ")\n",
    "# add the factor to the p2 pipeline\n",
    "p2.add(factor_demean_by_sector, 'Momentum_1YR_demean_by_sector')"
   ]
  },
  {
   "cell_type": "markdown",
   "metadata": {},
   "source": [
    "## visualize the second pipeline"
   ]
  },
  {
   "cell_type": "code",
   "execution_count": null,
   "metadata": {},
   "outputs": [],
   "source": [
    "p2.show_graph(format='png')"
   ]
  },
  {
   "cell_type": "markdown",
   "metadata": {},
   "source": [
    "## Quiz 4\n",
    "How does this pipeline compare with the first pipeline that we created earlier?"
   ]
  },
  {
   "cell_type": "markdown",
   "metadata": {},
   "source": [
    "## Answer 4\n",
    "The second pipeline now adds sector information in the GroupedRowTransform('demean') step."
   ]
  },
  {
   "cell_type": "markdown",
   "metadata": {},
   "source": [
    "## run pipeline and view the factor data"
   ]
  },
  {
   "cell_type": "code",
   "execution_count": null,
   "metadata": {},
   "outputs": [],
   "source": [
    "df2 = engine.run_pipeline(p2, factor_start_date, universe_end_date)"
   ]
  },
  {
   "cell_type": "code",
   "execution_count": null,
   "metadata": {},
   "outputs": [],
   "source": [
    "df2.head()"
   ]
  }
 ],
 "metadata": {
  "kernelspec": {
   "display_name": "Python 3",
   "language": "python",
   "name": "python3"
  },
  "language_info": {
   "codemirror_mode": {
    "name": "ipython",
    "version": 3
   },
   "file_extension": ".py",
   "mimetype": "text/x-python",
   "name": "python",
   "nbconvert_exporter": "python",
   "pygments_lexer": "ipython3",
   "version": "3.6.5"
  }
 },
 "nbformat": 4,
 "nbformat_minor": 2
}
